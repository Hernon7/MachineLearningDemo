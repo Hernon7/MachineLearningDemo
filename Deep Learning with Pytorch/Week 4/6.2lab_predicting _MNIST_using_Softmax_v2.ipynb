{
 "cells": [
  {
   "cell_type": "markdown",
   "metadata": {},
   "source": [
    "<a href=\"http://cocl.us/pytorch_link_top\">\n",
    "    <img src=\"https://s3-api.us-geo.objectstorage.softlayer.net/cf-courses-data/CognitiveClass/DL0110EN/notebook_images%20/Pytochtop.png\" width=\"750\" alt=\"IBM Product \" />\n",
    "</a> "
   ]
  },
  {
   "cell_type": "markdown",
   "metadata": {},
   "source": [
    "<img src=\"https://s3-api.us-geo.objectstorage.softlayer.net/cf-courses-data/CognitiveClass/DL0110EN/notebook_images%20/cc-logo-square.png\" width=\"200\" alt=\"cognitiveclass.ai logo\" />"
   ]
  },
  {
   "cell_type": "markdown",
   "metadata": {},
   "source": [
    "<h1>Softmax Classifier</h1>"
   ]
  },
  {
   "cell_type": "markdown",
   "metadata": {},
   "source": [
    "<h2>Table of Contents</h2>\n",
    "<p>In this lab, you will use a single layer Softmax to classify handwritten digits from the MNIST database.</p>\n",
    "\n",
    "<ul>\n",
    "    <li><a href=\"#Makeup_Data\">Make some Data</a></li>\n",
    "    <li><a href=\"#Classifier\">Softmax Classifier</a></li>\n",
    "    <li><a href=\"#Model\">Define Softmax, Criterion Function, Optimizer, and Train the Model</a></li>\n",
    "    <li><a href=\"#Result\">Analyze Results</a></li>\n",
    "</ul>\n",
    "<p>Estimated Time Needed: <strong>25 min</strong></p>\n",
    "\n",
    "<hr>"
   ]
  },
  {
   "cell_type": "markdown",
   "metadata": {},
   "source": [
    "<h2>Preparation</h2>"
   ]
  },
  {
   "cell_type": "markdown",
   "metadata": {},
   "source": [
    "We'll need the following libraries"
   ]
  },
  {
   "cell_type": "code",
   "execution_count": 1,
   "metadata": {},
   "outputs": [],
   "source": [
    "# Import the libraries we need for this lab\n",
    "\n",
    "# Using the following line code to install the torchvision library\n",
    "# !conda install -y torchvision\n",
    "\n",
    "import torch \n",
    "import torch.nn as nn\n",
    "import torchvision.transforms as transforms\n",
    "import torchvision.datasets as dsets\n",
    "import matplotlib.pylab as plt\n",
    "import numpy as np"
   ]
  },
  {
   "cell_type": "markdown",
   "metadata": {},
   "source": [
    "Use the following function to plot out the parameters of the Softmax function:"
   ]
  },
  {
   "cell_type": "code",
   "execution_count": 2,
   "metadata": {},
   "outputs": [],
   "source": [
    "# The function to plot parameters\n",
    "\n",
    "def PlotParameters(model): \n",
    "    W = model.state_dict()['linear.weight'].data\n",
    "    w_min = W.min().item()\n",
    "    w_max = W.max().item()\n",
    "    fig, axes = plt.subplots(2, 5)\n",
    "    fig.subplots_adjust(hspace=0.01, wspace=0.1)\n",
    "    for i, ax in enumerate(axes.flat):\n",
    "        if i < 10:\n",
    "            \n",
    "            # Set the label for the sub-plot.\n",
    "            ax.set_xlabel(\"class: {0}\".format(i))\n",
    "\n",
    "            # Plot the image.\n",
    "            ax.imshow(W[i, :].view(28, 28), vmin=w_min, vmax=w_max, cmap='seismic')\n",
    "\n",
    "            ax.set_xticks([])\n",
    "            ax.set_yticks([])\n",
    "\n",
    "        # Ensure the plot is shown correctly with multiple plots\n",
    "        # in a single Notebook cell.\n",
    "    plt.show()"
   ]
  },
  {
   "cell_type": "markdown",
   "metadata": {},
   "source": [
    "Use the following function to visualize the data: "
   ]
  },
  {
   "cell_type": "code",
   "execution_count": 3,
   "metadata": {},
   "outputs": [],
   "source": [
    "# Plot the data\n",
    "\n",
    "def show_data(data_sample):\n",
    "    plt.imshow(data_sample[0].numpy().reshape(28, 28), cmap='gray')\n",
    "    plt.title('y = ' + str(data_sample[1].item()))"
   ]
  },
  {
   "cell_type": "markdown",
   "metadata": {},
   "source": [
    "<!--Empty Space for separating topics-->"
   ]
  },
  {
   "cell_type": "markdown",
   "metadata": {},
   "source": [
    "<h2 id=\"Makeup_Data\">Make Some Data</h2> "
   ]
  },
  {
   "cell_type": "markdown",
   "metadata": {},
   "source": [
    "Load the training dataset by setting the parameters <code>train</code> to <code>True</code> and convert it to a tensor by placing a transform object in the argument <code>transform</code>."
   ]
  },
  {
   "cell_type": "code",
   "execution_count": 4,
   "metadata": {},
   "outputs": [
    {
     "name": "stderr",
     "output_type": "stream",
     "text": "0%|          | 0/9912422 [00:00<?, ?it/s]Downloading http://yann.lecun.com/exdb/mnist/train-images-idx3-ubyte.gz to ./data/MNIST/raw/train-images-idx3-ubyte.gz\n9920512it [00:01, 6700888.54it/s]\nExtracting ./data/MNIST/raw/train-images-idx3-ubyte.gz to ./data/MNIST/raw\n32768it [00:00, 780393.23it/s]\n 10%|█         | 172032/1648877 [00:00<00:00, 1703000.51it/s]Downloading http://yann.lecun.com/exdb/mnist/train-labels-idx1-ubyte.gz to ./data/MNIST/raw/train-labels-idx1-ubyte.gz\nExtracting ./data/MNIST/raw/train-labels-idx1-ubyte.gz to ./data/MNIST/raw\nDownloading http://yann.lecun.com/exdb/mnist/t10k-images-idx3-ubyte.gz to ./data/MNIST/raw/t10k-images-idx3-ubyte.gz\n1654784it [00:00, 4445070.96it/s]\n8192it [00:00, 478115.05it/s]Extracting ./data/MNIST/raw/t10k-images-idx3-ubyte.gz to ./data/MNIST/raw\nDownloading http://yann.lecun.com/exdb/mnist/t10k-labels-idx1-ubyte.gz to ./data/MNIST/raw/t10k-labels-idx1-ubyte.gz\nExtracting ./data/MNIST/raw/t10k-labels-idx1-ubyte.gz to ./data/MNIST/raw\nProcessing...\nDone!\nPrint the training dataset:\n  Dataset MNIST\n    Number of datapoints: 60000\n    Root location: ./data\n    Split: Train\n    StandardTransform\nTransform: ToTensor()\n\n"
    }
   ],
   "source": [
    "# Create and print the training dataset\n",
    "\n",
    "train_dataset = dsets.MNIST(root='./data', train=True, download=True, transform=transforms.ToTensor())\n",
    "print(\"Print the training dataset:\\n \", train_dataset)"
   ]
  },
  {
   "cell_type": "markdown",
   "metadata": {},
   "source": [
    "Load the testing dataset by setting the parameters <code>train</code> to <code>False</code> and convert it to a tensor by placing a transform object in the argument <code>transform</code>."
   ]
  },
  {
   "cell_type": "code",
   "execution_count": 5,
   "metadata": {},
   "outputs": [
    {
     "name": "stdout",
     "output_type": "stream",
     "text": "Print the validating dataset:\n  Dataset MNIST\n    Number of datapoints: 10000\n    Root location: ./data\n    Split: Test\n    StandardTransform\nTransform: ToTensor()\n"
    }
   ],
   "source": [
    "# Create and print the validating dataset\n",
    "\n",
    "validation_dataset = dsets.MNIST(root='./data', train=False, download=True, transform=transforms.ToTensor())\n",
    "print(\"Print the validating dataset:\\n \", validation_dataset)"
   ]
  },
  {
   "cell_type": "markdown",
   "metadata": {},
   "source": [
    "You can see that the data type is long:"
   ]
  },
  {
   "cell_type": "code",
   "execution_count": 13,
   "metadata": {},
   "outputs": [
    {
     "name": "stdout",
     "output_type": "stream",
     "text": "Type of data element:  <class 'int'>\n"
    }
   ],
   "source": [
    "# Print the type of the element\n",
    "\n",
    "print(\"Type of data element: \", type(train_dataset[0][1]))"
   ]
  },
  {
   "cell_type": "markdown",
   "metadata": {},
   "source": [
    "Each element in the rectangular tensor corresponds to a number that represents a pixel intensity as demonstrated by the following image:"
   ]
  },
  {
   "cell_type": "markdown",
   "metadata": {},
   "source": [
    "<img src=\"https://s3-api.us-geo.objectstorage.softlayer.net/cf-courses-data/CognitiveClass/DL0110EN/notebook_images%20/chapter3/3.32_image_values.png\" width=\"550\" alt=\"MNIST elements\" />"
   ]
  },
  {
   "cell_type": "markdown",
   "metadata": {},
   "source": [
    "In this image, the values are inverted i.e back represents wight."
   ]
  },
  {
   "cell_type": "markdown",
   "metadata": {},
   "source": [
    "Print out the label of the fourth element:"
   ]
  },
  {
   "cell_type": "code",
   "execution_count": 14,
   "metadata": {},
   "outputs": [
    {
     "name": "stdout",
     "output_type": "stream",
     "text": "The label:  1\n"
    }
   ],
   "source": [
    "# Print the label\n",
    "\n",
    "print(\"The label: \", train_dataset[3][1])"
   ]
  },
  {
   "cell_type": "markdown",
   "metadata": {},
   "source": [
    "The result shows the number in the image is 1"
   ]
  },
  {
   "cell_type": "markdown",
   "metadata": {},
   "source": [
    "Plot  the fourth sample:"
   ]
  },
  {
   "cell_type": "code",
   "execution_count": 15,
   "metadata": {},
   "outputs": [
    {
     "ename": "AttributeError",
     "evalue": "'int' object has no attribute 'item'",
     "output_type": "error",
     "traceback": [
      "\u001b[0;31m---------------------------------------------------------------------------\u001b[0m",
      "\u001b[0;31mAttributeError\u001b[0m                            Traceback (most recent call last)",
      "\u001b[0;32m<ipython-input-15-275890d729d6>\u001b[0m in \u001b[0;36m<module>\u001b[0;34m\u001b[0m\n\u001b[1;32m      1\u001b[0m \u001b[0;31m# Plot the image\u001b[0m\u001b[0;34m\u001b[0m\u001b[0;34m\u001b[0m\u001b[0;34m\u001b[0m\u001b[0m\n\u001b[1;32m      2\u001b[0m \u001b[0;34m\u001b[0m\u001b[0m\n\u001b[0;32m----> 3\u001b[0;31m \u001b[0mprint\u001b[0m\u001b[0;34m(\u001b[0m\u001b[0;34m\"The image: \"\u001b[0m\u001b[0;34m,\u001b[0m \u001b[0mshow_data\u001b[0m\u001b[0;34m(\u001b[0m\u001b[0mtrain_dataset\u001b[0m\u001b[0;34m[\u001b[0m\u001b[0;36m3\u001b[0m\u001b[0;34m]\u001b[0m\u001b[0;34m)\u001b[0m\u001b[0;34m)\u001b[0m\u001b[0;34m\u001b[0m\u001b[0;34m\u001b[0m\u001b[0m\n\u001b[0m",
      "\u001b[0;32m<ipython-input-3-4ecc64a3c490>\u001b[0m in \u001b[0;36mshow_data\u001b[0;34m(data_sample)\u001b[0m\n\u001b[1;32m      3\u001b[0m \u001b[0;32mdef\u001b[0m \u001b[0mshow_data\u001b[0m\u001b[0;34m(\u001b[0m\u001b[0mdata_sample\u001b[0m\u001b[0;34m)\u001b[0m\u001b[0;34m:\u001b[0m\u001b[0;34m\u001b[0m\u001b[0;34m\u001b[0m\u001b[0m\n\u001b[1;32m      4\u001b[0m     \u001b[0mplt\u001b[0m\u001b[0;34m.\u001b[0m\u001b[0mimshow\u001b[0m\u001b[0;34m(\u001b[0m\u001b[0mdata_sample\u001b[0m\u001b[0;34m[\u001b[0m\u001b[0;36m0\u001b[0m\u001b[0;34m]\u001b[0m\u001b[0;34m.\u001b[0m\u001b[0mnumpy\u001b[0m\u001b[0;34m(\u001b[0m\u001b[0;34m)\u001b[0m\u001b[0;34m.\u001b[0m\u001b[0mreshape\u001b[0m\u001b[0;34m(\u001b[0m\u001b[0;36m28\u001b[0m\u001b[0;34m,\u001b[0m \u001b[0;36m28\u001b[0m\u001b[0;34m)\u001b[0m\u001b[0;34m,\u001b[0m \u001b[0mcmap\u001b[0m\u001b[0;34m=\u001b[0m\u001b[0;34m'gray'\u001b[0m\u001b[0;34m)\u001b[0m\u001b[0;34m\u001b[0m\u001b[0;34m\u001b[0m\u001b[0m\n\u001b[0;32m----> 5\u001b[0;31m     \u001b[0mplt\u001b[0m\u001b[0;34m.\u001b[0m\u001b[0mtitle\u001b[0m\u001b[0;34m(\u001b[0m\u001b[0;34m'y = '\u001b[0m \u001b[0;34m+\u001b[0m \u001b[0mstr\u001b[0m\u001b[0;34m(\u001b[0m\u001b[0mdata_sample\u001b[0m\u001b[0;34m[\u001b[0m\u001b[0;36m1\u001b[0m\u001b[0;34m]\u001b[0m\u001b[0;34m.\u001b[0m\u001b[0mitem\u001b[0m\u001b[0;34m(\u001b[0m\u001b[0;34m)\u001b[0m\u001b[0;34m)\u001b[0m\u001b[0;34m)\u001b[0m\u001b[0;34m\u001b[0m\u001b[0;34m\u001b[0m\u001b[0m\n\u001b[0m",
      "\u001b[0;31mAttributeError\u001b[0m: 'int' object has no attribute 'item'"
     ]
    }
   ],
   "source": [
    "# Plot the image\n",
    "\n",
    "print(\"The image: \", show_data(train_dataset[3]))"
   ]
  },
  {
   "cell_type": "markdown",
   "metadata": {},
   "source": [
    "You see that it is a 1. Now, plot the third sample:"
   ]
  },
  {
   "cell_type": "code",
   "execution_count": 16,
   "metadata": {},
   "outputs": [
    {
     "ename": "AttributeError",
     "evalue": "'int' object has no attribute 'item'",
     "output_type": "error",
     "traceback": [
      "\u001b[0;31m---------------------------------------------------------------------------\u001b[0m",
      "\u001b[0;31mAttributeError\u001b[0m                            Traceback (most recent call last)",
      "\u001b[0;32m<ipython-input-16-c8d893359268>\u001b[0m in \u001b[0;36m<module>\u001b[0;34m\u001b[0m\n\u001b[1;32m      1\u001b[0m \u001b[0;31m# Plot the image\u001b[0m\u001b[0;34m\u001b[0m\u001b[0;34m\u001b[0m\u001b[0;34m\u001b[0m\u001b[0m\n\u001b[1;32m      2\u001b[0m \u001b[0;34m\u001b[0m\u001b[0m\n\u001b[0;32m----> 3\u001b[0;31m \u001b[0mshow_data\u001b[0m\u001b[0;34m(\u001b[0m\u001b[0mtrain_dataset\u001b[0m\u001b[0;34m[\u001b[0m\u001b[0;36m2\u001b[0m\u001b[0;34m]\u001b[0m\u001b[0;34m)\u001b[0m\u001b[0;34m\u001b[0m\u001b[0;34m\u001b[0m\u001b[0m\n\u001b[0m",
      "\u001b[0;32m<ipython-input-3-4ecc64a3c490>\u001b[0m in \u001b[0;36mshow_data\u001b[0;34m(data_sample)\u001b[0m\n\u001b[1;32m      3\u001b[0m \u001b[0;32mdef\u001b[0m \u001b[0mshow_data\u001b[0m\u001b[0;34m(\u001b[0m\u001b[0mdata_sample\u001b[0m\u001b[0;34m)\u001b[0m\u001b[0;34m:\u001b[0m\u001b[0;34m\u001b[0m\u001b[0;34m\u001b[0m\u001b[0m\n\u001b[1;32m      4\u001b[0m     \u001b[0mplt\u001b[0m\u001b[0;34m.\u001b[0m\u001b[0mimshow\u001b[0m\u001b[0;34m(\u001b[0m\u001b[0mdata_sample\u001b[0m\u001b[0;34m[\u001b[0m\u001b[0;36m0\u001b[0m\u001b[0;34m]\u001b[0m\u001b[0;34m.\u001b[0m\u001b[0mnumpy\u001b[0m\u001b[0;34m(\u001b[0m\u001b[0;34m)\u001b[0m\u001b[0;34m.\u001b[0m\u001b[0mreshape\u001b[0m\u001b[0;34m(\u001b[0m\u001b[0;36m28\u001b[0m\u001b[0;34m,\u001b[0m \u001b[0;36m28\u001b[0m\u001b[0;34m)\u001b[0m\u001b[0;34m,\u001b[0m \u001b[0mcmap\u001b[0m\u001b[0;34m=\u001b[0m\u001b[0;34m'gray'\u001b[0m\u001b[0;34m)\u001b[0m\u001b[0;34m\u001b[0m\u001b[0;34m\u001b[0m\u001b[0m\n\u001b[0;32m----> 5\u001b[0;31m     \u001b[0mplt\u001b[0m\u001b[0;34m.\u001b[0m\u001b[0mtitle\u001b[0m\u001b[0;34m(\u001b[0m\u001b[0;34m'y = '\u001b[0m \u001b[0;34m+\u001b[0m \u001b[0mstr\u001b[0m\u001b[0;34m(\u001b[0m\u001b[0mdata_sample\u001b[0m\u001b[0;34m[\u001b[0m\u001b[0;36m1\u001b[0m\u001b[0;34m]\u001b[0m\u001b[0;34m.\u001b[0m\u001b[0mitem\u001b[0m\u001b[0;34m(\u001b[0m\u001b[0;34m)\u001b[0m\u001b[0;34m)\u001b[0m\u001b[0;34m)\u001b[0m\u001b[0;34m\u001b[0m\u001b[0;34m\u001b[0m\u001b[0m\n\u001b[0m",
      "\u001b[0;31mAttributeError\u001b[0m: 'int' object has no attribute 'item'"
     ]
    }
   ],
   "source": [
    "# Plot the image\n",
    "\n",
    "show_data(train_dataset[2])"
   ]
  },
  {
   "cell_type": "markdown",
   "metadata": {},
   "source": [
    "<!--Empty Space for separating topics-->"
   ]
  },
  {
   "cell_type": "markdown",
   "metadata": {},
   "source": [
    "<h2 id=\"#Classifier\">Build a Softmax Classifer</h2>"
   ]
  },
  {
   "cell_type": "markdown",
   "metadata": {},
   "source": [
    "Build a Softmax classifier class: "
   ]
  },
  {
   "cell_type": "code",
   "execution_count": 17,
   "metadata": {},
   "outputs": [],
   "source": [
    "# Define softmax classifier class\n",
    "\n",
    "class SoftMax(nn.Module):\n",
    "    \n",
    "    # Constructor\n",
    "    def __init__(self, input_size, output_size):\n",
    "        super(SoftMax, self).__init__()\n",
    "        self.linear = nn.Linear(input_size, output_size)\n",
    "        \n",
    "    # Prediction\n",
    "    def forward(self, x):\n",
    "        z = self.linear(x)\n",
    "        return z"
   ]
  },
  {
   "cell_type": "markdown",
   "metadata": {},
   "source": [
    "The Softmax function requires vector inputs. Note that the vector shape is 28x28."
   ]
  },
  {
   "cell_type": "code",
   "execution_count": 18,
   "metadata": {},
   "outputs": [
    {
     "data": {
      "text/plain": "torch.Size([1, 28, 28])"
     },
     "execution_count": 18,
     "metadata": {},
     "output_type": "execute_result"
    }
   ],
   "source": [
    "# Print the shape of train dataset\n",
    "\n",
    "train_dataset[0][0].shape"
   ]
  },
  {
   "cell_type": "markdown",
   "metadata": {},
   "source": [
    "Flatten the tensor as shown in this image: "
   ]
  },
  {
   "cell_type": "markdown",
   "metadata": {},
   "source": [
    "<img src=\"https://s3-api.us-geo.objectstorage.softlayer.net/cf-courses-data/CognitiveClass/DL0110EN/notebook_images%20/chapter3/3.3.2image_to_vector.gif\" width=\"550\" alt=\"Flattern Image\" />"
   ]
  },
  {
   "cell_type": "markdown",
   "metadata": {},
   "source": [
    "The size of the tensor is now 784."
   ]
  },
  {
   "cell_type": "markdown",
   "metadata": {},
   "source": [
    "<img src = \"https://s3-api.us-geo.objectstorage.softlayer.net/cf-courses-data/CognitiveClass/DL0110EN/notebook_images%20/chapter3/3.3.2Imagetovector2.png\" width=\"550\" alt=\"Flattern Image\" />"
   ]
  },
  {
   "cell_type": "markdown",
   "metadata": {},
   "source": [
    "Set the input size and output size: "
   ]
  },
  {
   "cell_type": "code",
   "execution_count": 19,
   "metadata": {},
   "outputs": [],
   "source": [
    "# Set input size and output size\n",
    "\n",
    "input_dim = 28 * 28\n",
    "output_dim = 10"
   ]
  },
  {
   "cell_type": "markdown",
   "metadata": {},
   "source": [
    "<!--Empty Space for separating topics-->"
   ]
  },
  {
   "cell_type": "markdown",
   "metadata": {},
   "source": [
    "<h2 id=\"Model\">Define the Softmax Classifier, Criterion Function, Optimizer, and Train the Model</h2> "
   ]
  },
  {
   "cell_type": "code",
   "execution_count": 20,
   "metadata": {},
   "outputs": [
    {
     "name": "stdout",
     "output_type": "stream",
     "text": "Print the model:\n  SoftMax(\n  (linear): Linear(in_features=784, out_features=10, bias=True)\n)\n"
    }
   ],
   "source": [
    "# Create the model\n",
    "\n",
    "model = SoftMax(input_dim, output_dim)\n",
    "print(\"Print the model:\\n \", model)"
   ]
  },
  {
   "cell_type": "markdown",
   "metadata": {},
   "source": [
    "View the size of the model parameters: "
   ]
  },
  {
   "cell_type": "code",
   "execution_count": 21,
   "metadata": {},
   "outputs": [
    {
     "name": "stdout",
     "output_type": "stream",
     "text": "W:  torch.Size([10, 784])\nb:  torch.Size([10])\n"
    }
   ],
   "source": [
    "# Print the parameters\n",
    "\n",
    "print('W: ',list(model.parameters())[0].size())\n",
    "print('b: ',list(model.parameters())[1].size())"
   ]
  },
  {
   "cell_type": "markdown",
   "metadata": {},
   "source": [
    "You can cover the model parameters for each class to a rectangular grid:  "
   ]
  },
  {
   "cell_type": "markdown",
   "metadata": {},
   "source": [
    "\n",
    "<a>     <img src = \"https://s3-api.us-geo.objectstorage.softlayer.net/cf-courses-data/CognitiveClass/DL0110EN/notebook_images%20/chapter3/3.3.2paramaters_to_image.gif\" width = 550, align = \"center\"></a> "
   ]
  },
  {
   "cell_type": "markdown",
   "metadata": {},
   "source": [
    "Plot the model parameters for each class as a square image: "
   ]
  },
  {
   "cell_type": "code",
   "execution_count": 22,
   "metadata": {},
   "outputs": [
    {
     "data": {
      "image/png": "[encoded data removed]",
      "image/svg+xml": "<?xml version=\"1.0\" encoding=\"utf-8\" standalone=\"no\"?>\n<!DOCTYPE svg PUBLIC \"-//W3C//DTD SVG 1.1//EN\"\n  \"http://www.w3.org/Graphics/SVG/1.1/DTD/svg11.dtd\">\n<!-- Created with matplotlib (https://matplotlib.org/) -->\n<svg height=\"199.339021pt\" version=\"1.1\" viewBox=\"0 0 352.7 199.339021\" width=\"352.7pt\" xmlns=\"http://www.w3.org/2000/svg\" xmlns:xlink=\"http://www.w3.org/1999/xlink\">\n <defs>\n  <style type=\"text/css\">\n*{stroke-linecap:butt;stroke-linejoin:round;}\n  </style>\n </defs>\n <g id=\"figure_1\">\n  <g id=\"patch_1\">\n   <path d=\"M 0 199.339021 \nL 352.7 199.339021 \nL 352.7 0 \nL 0 0 \nz\n\" style=\"fill:none;\"/>\n  </g>\n  <g id=\"axes_1\">\n   <g id=\"patch_2\">\n    <path d=\"M 10.7 69.2 \nL 72.7 69.2 \nL 72.7 7.2 \nL 10.7 7.2 \nz\n\" style=\"fill:#ffffff;\"/>\n   </g>\n   <g clip-path=\"url(#p4e47fb3d38)\">\n    <image height=\"62\" id=\"image9c0a5562df\" transform=\"scale(1 -1)translate(0 -62)\" width=\"62\" x=\"10.7\" xlink:href=\"data:image/png;base64,\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\" y=\"-7.2\"/>\n   </g>\n   <g id=\"matplotlib.axis_1\">\n    <g id=\"text_1\">\n     <!-- class: 0 -->\n     <defs>\n      <path d=\"M 48.78125 52.59375 \nL 48.78125 44.1875 \nQ 44.96875 46.296875 41.140625 47.34375 \nQ 37.3125 48.390625 33.40625 48.390625 \nQ 24.65625 48.390625 19.8125 42.84375 \nQ 14.984375 37.3125 14.984375 27.296875 \nQ 14.984375 17.28125 19.8125 11.734375 \nQ 24.65625 6.203125 33.40625 6.203125 \nQ 37.3125 6.203125 41.140625 7.25 \nQ 44.96875 8.296875 48.78125 10.40625 \nL 48.78125 2.09375 \nQ 45.015625 0.34375 40.984375 -0.53125 \nQ 36.96875 -1.421875 32.421875 -1.421875 \nQ 20.0625 -1.421875 12.78125 6.34375 \nQ 5.515625 14.109375 5.515625 27.296875 \nQ 5.515625 40.671875 12.859375 48.328125 \nQ 20.21875 56 33.015625 56 \nQ 37.15625 56 41.109375 55.140625 \nQ 45.0625 54.296875 48.78125 52.59375 \nz\n\" id=\"DejaVuSans-99\"/>\n      <path d=\"M 9.421875 75.984375 \nL 18.40625 75.984375 \nL 18.40625 0 \nL 9.421875 0 \nz\n\" id=\"DejaVuSans-108\"/>\n      <path d=\"M 34.28125 27.484375 \nQ 23.390625 27.484375 19.1875 25 \nQ 14.984375 22.515625 14.984375 16.5 \nQ 14.984375 11.71875 18.140625 8.90625 \nQ 21.296875 6.109375 26.703125 6.109375 \nQ 34.1875 6.109375 38.703125 11.40625 \nQ 43.21875 16.703125 43.21875 25.484375 \nL 43.21875 27.484375 \nz\nM 52.203125 31.203125 \nL 52.203125 0 \nL 43.21875 0 \nL 43.21875 8.296875 \nQ 40.140625 3.328125 35.546875 0.953125 \nQ 30.953125 -1.421875 24.3125 -1.421875 \nQ 15.921875 -1.421875 10.953125 3.296875 \nQ 6 8.015625 6 15.921875 \nQ 6 25.140625 12.171875 29.828125 \nQ 18.359375 34.515625 30.609375 34.515625 \nL 43.21875 34.515625 \nL 43.21875 35.40625 \nQ 43.21875 41.609375 39.140625 45 \nQ 35.0625 48.390625 27.6875 48.390625 \nQ 23 48.390625 18.546875 47.265625 \nQ 14.109375 46.140625 10.015625 43.890625 \nL 10.015625 52.203125 \nQ 14.9375 54.109375 19.578125 55.046875 \nQ 24.21875 56 28.609375 56 \nQ 40.484375 56 46.34375 49.84375 \nQ 52.203125 43.703125 52.203125 31.203125 \nz\n\" id=\"DejaVuSans-97\"/>\n      <path d=\"M 44.28125 53.078125 \nL 44.28125 44.578125 \nQ 40.484375 46.53125 36.375 47.5 \nQ 32.28125 48.484375 27.875 48.484375 \nQ 21.1875 48.484375 17.84375 46.4375 \nQ 14.5 44.390625 14.5 40.28125 \nQ 14.5 37.15625 16.890625 35.375 \nQ 19.28125 33.59375 26.515625 31.984375 \nL 29.59375 31.296875 \nQ 39.15625 29.25 43.1875 25.515625 \nQ 47.21875 21.78125 47.21875 15.09375 \nQ 47.21875 7.46875 41.1875 3.015625 \nQ 35.15625 -1.421875 24.609375 -1.421875 \nQ 20.21875 -1.421875 15.453125 -0.5625 \nQ 10.6875 0.296875 5.421875 2 \nL 5.421875 11.28125 \nQ 10.40625 8.6875 15.234375 7.390625 \nQ 20.0625 6.109375 24.8125 6.109375 \nQ 31.15625 6.109375 34.5625 8.28125 \nQ 37.984375 10.453125 37.984375 14.40625 \nQ 37.984375 18.0625 35.515625 20.015625 \nQ 33.0625 21.96875 24.703125 23.78125 \nL 21.578125 24.515625 \nQ 13.234375 26.265625 9.515625 29.90625 \nQ 5.8125 33.546875 5.8125 39.890625 \nQ 5.8125 47.609375 11.28125 51.796875 \nQ 16.75 56 26.8125 56 \nQ 31.78125 56 36.171875 55.265625 \nQ 40.578125 54.546875 44.28125 53.078125 \nz\n\" id=\"DejaVuSans-115\"/>\n      <path d=\"M 11.71875 12.40625 \nL 22.015625 12.40625 \nL 22.015625 0 \nL 11.71875 0 \nz\nM 11.71875 51.703125 \nL 22.015625 51.703125 \nL 22.015625 39.3125 \nL 11.71875 39.3125 \nz\n\" id=\"DejaVuSans-58\"/>\n      <path id=\"DejaVuSans-32\"/>\n      <path d=\"M 31.78125 66.40625 \nQ 24.171875 66.40625 20.328125 58.90625 \nQ 16.5 51.421875 16.5 36.375 \nQ 16.5 21.390625 20.328125 13.890625 \nQ 24.171875 6.390625 31.78125 6.390625 \nQ 39.453125 6.390625 43.28125 13.890625 \nQ 47.125 21.390625 47.125 36.375 \nQ 47.125 51.421875 43.28125 58.90625 \nQ 39.453125 66.40625 31.78125 66.40625 \nz\nM 31.78125 74.21875 \nQ 44.046875 74.21875 50.515625 64.515625 \nQ 56.984375 54.828125 56.984375 36.375 \nQ 56.984375 17.96875 50.515625 8.265625 \nQ 44.046875 -1.421875 31.78125 -1.421875 \nQ 19.53125 -1.421875 13.0625 8.265625 \nQ 6.59375 17.96875 6.59375 36.375 \nQ 6.59375 54.828125 13.0625 64.515625 \nQ 19.53125 74.21875 31.78125 74.21875 \nz\n\" id=\"DejaVuSans-48\"/>\n     </defs>\n     <g transform=\"translate(22.833594 80.798437)scale(0.1 -0.1)\">\n      <use xlink:href=\"#DejaVuSans-99\"/>\n      <use x=\"54.980469\" xlink:href=\"#DejaVuSans-108\"/>\n      <use x=\"82.763672\" xlink:href=\"#DejaVuSans-97\"/>\n      <use x=\"144.042969\" xlink:href=\"#DejaVuSans-115\"/>\n      <use x=\"196.142578\" xlink:href=\"#DejaVuSans-115\"/>\n      <use x=\"248.242188\" xlink:href=\"#DejaVuSans-58\"/>\n      <use x=\"281.933594\" xlink:href=\"#DejaVuSans-32\"/>\n      <use x=\"313.720703\" xlink:href=\"#DejaVuSans-48\"/>\n     </g>\n    </g>\n   </g>\n   <g id=\"matplotlib.axis_2\"/>\n   <g id=\"patch_3\">\n    <path d=\"M 10.7 69.2 \nL 10.7 7.2 \n\" style=\"fill:none;stroke:#000000;stroke-linecap:square;stroke-linejoin:miter;stroke-width:0.8;\"/>\n   </g>\n   <g id=\"patch_4\">\n    <path d=\"M 72.7 69.2 \nL 72.7 7.2 \n\" style=\"fill:none;stroke:#000000;stroke-linecap:square;stroke-linejoin:miter;stroke-width:0.8;\"/>\n   </g>\n   <g id=\"patch_5\">\n    <path d=\"M 10.7 69.2 \nL 72.7 69.2 \n\" style=\"fill:none;stroke:#000000;stroke-linecap:square;stroke-linejoin:miter;stroke-width:0.8;\"/>\n   </g>\n   <g id=\"patch_6\">\n    <path d=\"M 10.7 7.2 \nL 72.7 7.2 \n\" style=\"fill:none;stroke:#000000;stroke-linecap:square;stroke-linejoin:miter;stroke-width:0.8;\"/>\n   </g>\n  </g>\n  <g id=\"axes_2\">\n   <g id=\"patch_7\">\n    <path d=\"M 78.9 69.2 \nL 140.9 69.2 \nL 140.9 7.2 \nL 78.9 7.2 \nz\n\" style=\"fill:#ffffff;\"/>\n   </g>\n   <g clip-path=\"url(#pf41362c362)\">\n    <image height=\"62\" id=\"image528bb87e1b\" transform=\"scale(1 -1)translate(0 -62)\" width=\"63\" x=\"78.9\" xlink:href=\"data:image/png;base64,\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\" y=\"-7.2\"/>\n   </g>\n   <g id=\"matplotlib.axis_3\">\n    <g id=\"text_2\">\n     <!-- class: 1 -->\n     <defs>\n      <path d=\"M 12.40625 8.296875 \nL 28.515625 8.296875 \nL 28.515625 63.921875 \nL 10.984375 60.40625 \nL 10.984375 69.390625 \nL 28.421875 72.90625 \nL 38.28125 72.90625 \nL 38.28125 8.296875 \nL 54.390625 8.296875 \nL 54.390625 0 \nL 12.40625 0 \nz\n\" id=\"DejaVuSans-49\"/>\n     </defs>\n     <g transform=\"translate(91.033594 80.798437)scale(0.1 -0.1)\">\n      <use xlink:href=\"#DejaVuSans-99\"/>\n      <use x=\"54.980469\" xlink:href=\"#DejaVuSans-108\"/>\n      <use x=\"82.763672\" xlink:href=\"#DejaVuSans-97\"/>\n      <use x=\"144.042969\" xlink:href=\"#DejaVuSans-115\"/>\n      <use x=\"196.142578\" xlink:href=\"#DejaVuSans-115\"/>\n      <use x=\"248.242188\" xlink:href=\"#DejaVuSans-58\"/>\n      <use x=\"281.933594\" xlink:href=\"#DejaVuSans-32\"/>\n      <use x=\"313.720703\" xlink:href=\"#DejaVuSans-49\"/>\n     </g>\n    </g>\n   </g>\n   <g id=\"matplotlib.axis_4\"/>\n   <g id=\"patch_8\">\n    <path d=\"M 78.9 69.2 \nL 78.9 7.2 \n\" style=\"fill:none;stroke:#000000;stroke-linecap:square;stroke-linejoin:miter;stroke-width:0.8;\"/>\n   </g>\n   <g id=\"patch_9\">\n    <path d=\"M 140.9 69.2 \nL 140.9 7.2 \n\" style=\"fill:none;stroke:#000000;stroke-linecap:square;stroke-linejoin:miter;stroke-width:0.8;\"/>\n   </g>\n   <g id=\"patch_10\">\n    <path d=\"M 78.9 69.2 \nL 140.9 69.2 \n\" style=\"fill:none;stroke:#000000;stroke-linecap:square;stroke-linejoin:miter;stroke-width:0.8;\"/>\n   </g>\n   <g id=\"patch_11\">\n    <path d=\"M 78.9 7.2 \nL 140.9 7.2 \n\" style=\"fill:none;stroke:#000000;stroke-linecap:square;stroke-linejoin:miter;stroke-width:0.8;\"/>\n   </g>\n  </g>\n  <g id=\"axes_3\">\n   <g id=\"patch_12\">\n    <path d=\"M 147.1 69.2 \nL 209.1 69.2 \nL 209.1 7.2 \nL 147.1 7.2 \nz\n\" style=\"fill:#ffffff;\"/>\n   </g>\n   <g clip-path=\"url(#p15b0ad8341)\">\n    <image height=\"62\" id=\"imageffb76d3b58\" transform=\"scale(1 -1)translate(0 -62)\" width=\"62\" x=\"147.1\" xlink:href=\"data:image/png;base64,\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\" y=\"-7.2\"/>\n   </g>\n   <g id=\"matplotlib.axis_5\">\n    <g id=\"text_3\">\n     <!-- class: 2 -->\n     <defs>\n      <path d=\"M 19.1875 8.296875 \nL 53.609375 8.296875 \nL 53.609375 0 \nL 7.328125 0 \nL 7.328125 8.296875 \nQ 12.9375 14.109375 22.625 23.890625 \nQ 32.328125 33.6875 34.8125 36.53125 \nQ 39.546875 41.84375 41.421875 45.53125 \nQ 43.3125 49.21875 43.3125 52.78125 \nQ 43.3125 58.59375 39.234375 62.25 \nQ 35.15625 65.921875 28.609375 65.921875 \nQ 23.96875 65.921875 18.8125 64.3125 \nQ 13.671875 62.703125 7.8125 59.421875 \nL 7.8125 69.390625 \nQ 13.765625 71.78125 18.9375 73 \nQ 24.125 74.21875 28.421875 74.21875 \nQ 39.75 74.21875 46.484375 68.546875 \nQ 53.21875 62.890625 53.21875 53.421875 \nQ 53.21875 48.921875 51.53125 44.890625 \nQ 49.859375 40.875 45.40625 35.40625 \nQ 44.1875 33.984375 37.640625 27.21875 \nQ 31.109375 20.453125 19.1875 8.296875 \nz\n\" id=\"DejaVuSans-50\"/>\n     </defs>\n     <g transform=\"translate(159.233594 80.798437)scale(0.1 -0.1)\">\n      <use xlink:href=\"#DejaVuSans-99\"/>\n      <use x=\"54.980469\" xlink:href=\"#DejaVuSans-108\"/>\n      <use x=\"82.763672\" xlink:href=\"#DejaVuSans-97\"/>\n      <use x=\"144.042969\" xlink:href=\"#DejaVuSans-115\"/>\n      <use x=\"196.142578\" xlink:href=\"#DejaVuSans-115\"/>\n      <use x=\"248.242188\" xlink:href=\"#DejaVuSans-58\"/>\n      <use x=\"281.933594\" xlink:href=\"#DejaVuSans-32\"/>\n      <use x=\"313.720703\" xlink:href=\"#DejaVuSans-50\"/>\n     </g>\n    </g>\n   </g>\n   <g id=\"matplotlib.axis_6\"/>\n   <g id=\"patch_13\">\n    <path d=\"M 147.1 69.2 \nL 147.1 7.2 \n\" style=\"fill:none;stroke:#000000;stroke-linecap:square;stroke-linejoin:miter;stroke-width:0.8;\"/>\n   </g>\n   <g id=\"patch_14\">\n    <path d=\"M 209.1 69.2 \nL 209.1 7.2 \n\" style=\"fill:none;stroke:#000000;stroke-linecap:square;stroke-linejoin:miter;stroke-width:0.8;\"/>\n   </g>\n   <g id=\"patch_15\">\n    <path d=\"M 147.1 69.2 \nL 209.1 69.2 \n\" style=\"fill:none;stroke:#000000;stroke-linecap:square;stroke-linejoin:miter;stroke-width:0.8;\"/>\n   </g>\n   <g id=\"patch_16\">\n    <path d=\"M 147.1 7.2 \nL 209.1 7.2 \n\" style=\"fill:none;stroke:#000000;stroke-linecap:square;stroke-linejoin:miter;stroke-width:0.8;\"/>\n   </g>\n  </g>\n  <g id=\"axes_4\">\n   <g id=\"patch_17\">\n    <path d=\"M 215.3 69.2 \nL 277.3 69.2 \nL 277.3 7.2 \nL 215.3 7.2 \nz\n\" style=\"fill:#ffffff;\"/>\n   </g>\n   <g clip-path=\"url(#pdf0f00efb4)\">\n    <image height=\"62\" id=\"image55e0c4762d\" transform=\"scale(1 -1)translate(0 -62)\" width=\"62\" x=\"215.3\" xlink:href=\"data:image/png;base64,\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\" y=\"-7.2\"/>\n   </g>\n   <g id=\"matplotlib.axis_7\">\n    <g id=\"text_4\">\n     <!-- class: 3 -->\n     <defs>\n      <path d=\"M 40.578125 39.3125 \nQ 47.65625 37.796875 51.625 33 \nQ 55.609375 28.21875 55.609375 21.1875 \nQ 55.609375 10.40625 48.1875 4.484375 \nQ 40.765625 -1.421875 27.09375 -1.421875 \nQ 22.515625 -1.421875 17.65625 -0.515625 \nQ 12.796875 0.390625 7.625 2.203125 \nL 7.625 11.71875 \nQ 11.71875 9.328125 16.59375 8.109375 \nQ 21.484375 6.890625 26.8125 6.890625 \nQ 36.078125 6.890625 40.9375 10.546875 \nQ 45.796875 14.203125 45.796875 21.1875 \nQ 45.796875 27.640625 41.28125 31.265625 \nQ 36.765625 34.90625 28.71875 34.90625 \nL 20.21875 34.90625 \nL 20.21875 43.015625 \nL 29.109375 43.015625 \nQ 36.375 43.015625 40.234375 45.921875 \nQ 44.09375 48.828125 44.09375 54.296875 \nQ 44.09375 59.90625 40.109375 62.90625 \nQ 36.140625 65.921875 28.71875 65.921875 \nQ 24.65625 65.921875 20.015625 65.03125 \nQ 15.375 64.15625 9.8125 62.3125 \nL 9.8125 71.09375 \nQ 15.4375 72.65625 20.34375 73.4375 \nQ 25.25 74.21875 29.59375 74.21875 \nQ 40.828125 74.21875 47.359375 69.109375 \nQ 53.90625 64.015625 53.90625 55.328125 \nQ 53.90625 49.265625 50.4375 45.09375 \nQ 46.96875 40.921875 40.578125 39.3125 \nz\n\" id=\"DejaVuSans-51\"/>\n     </defs>\n     <g transform=\"translate(227.433594 80.798437)scale(0.1 -0.1)\">\n      <use xlink:href=\"#DejaVuSans-99\"/>\n      <use x=\"54.980469\" xlink:href=\"#DejaVuSans-108\"/>\n      <use x=\"82.763672\" xlink:href=\"#DejaVuSans-97\"/>\n      <use x=\"144.042969\" xlink:href=\"#DejaVuSans-115\"/>\n      <use x=\"196.142578\" xlink:href=\"#DejaVuSans-115\"/>\n      <use x=\"248.242188\" xlink:href=\"#DejaVuSans-58\"/>\n      <use x=\"281.933594\" xlink:href=\"#DejaVuSans-32\"/>\n      <use x=\"313.720703\" xlink:href=\"#DejaVuSans-51\"/>\n     </g>\n    </g>\n   </g>\n   <g id=\"matplotlib.axis_8\"/>\n   <g id=\"patch_18\">\n    <path d=\"M 215.3 69.2 \nL 215.3 7.2 \n\" style=\"fill:none;stroke:#000000;stroke-linecap:square;stroke-linejoin:miter;stroke-width:0.8;\"/>\n   </g>\n   <g id=\"patch_19\">\n    <path d=\"M 277.3 69.2 \nL 277.3 7.2 \n\" style=\"fill:none;stroke:#000000;stroke-linecap:square;stroke-linejoin:miter;stroke-width:0.8;\"/>\n   </g>\n   <g id=\"patch_20\">\n    <path d=\"M 215.3 69.2 \nL 277.3 69.2 \n\" style=\"fill:none;stroke:#000000;stroke-linecap:square;stroke-linejoin:miter;stroke-width:0.8;\"/>\n   </g>\n   <g id=\"patch_21\">\n    <path d=\"M 215.3 7.2 \nL 277.3 7.2 \n\" style=\"fill:none;stroke:#000000;stroke-linecap:square;stroke-linejoin:miter;stroke-width:0.8;\"/>\n   </g>\n  </g>\n  <g id=\"axes_5\">\n   <g id=\"patch_22\">\n    <path d=\"M 283.5 69.2 \nL 345.5 69.2 \nL 345.5 7.2 \nL 283.5 7.2 \nz\n\" style=\"fill:#ffffff;\"/>\n   </g>\n   <g clip-path=\"url(#pafc7ea5d38)\">\n    <image height=\"62\" id=\"imagea741b42ff5\" transform=\"scale(1 -1)translate(0 -62)\" width=\"62\" x=\"283.5\" xlink:href=\"data:image/png;base64,\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\" y=\"-7.2\"/>\n   </g>\n   <g id=\"matplotlib.axis_9\">\n    <g id=\"text_5\">\n     <!-- class: 4 -->\n     <defs>\n      <path d=\"M 37.796875 64.3125 \nL 12.890625 25.390625 \nL 37.796875 25.390625 \nz\nM 35.203125 72.90625 \nL 47.609375 72.90625 \nL 47.609375 25.390625 \nL 58.015625 25.390625 \nL 58.015625 17.1875 \nL 47.609375 17.1875 \nL 47.609375 0 \nL 37.796875 0 \nL 37.796875 17.1875 \nL 4.890625 17.1875 \nL 4.890625 26.703125 \nz\n\" id=\"DejaVuSans-52\"/>\n     </defs>\n     <g transform=\"translate(295.633594 80.798437)scale(0.1 -0.1)\">\n      <use xlink:href=\"#DejaVuSans-99\"/>\n      <use x=\"54.980469\" xlink:href=\"#DejaVuSans-108\"/>\n      <use x=\"82.763672\" xlink:href=\"#DejaVuSans-97\"/>\n      <use x=\"144.042969\" xlink:href=\"#DejaVuSans-115\"/>\n      <use x=\"196.142578\" xlink:href=\"#DejaVuSans-115\"/>\n      <use x=\"248.242188\" xlink:href=\"#DejaVuSans-58\"/>\n      <use x=\"281.933594\" xlink:href=\"#DejaVuSans-32\"/>\n      <use x=\"313.720703\" xlink:href=\"#DejaVuSans-52\"/>\n     </g>\n    </g>\n   </g>\n   <g id=\"matplotlib.axis_10\"/>\n   <g id=\"patch_23\">\n    <path d=\"M 283.5 69.2 \nL 283.5 7.2 \n\" style=\"fill:none;stroke:#000000;stroke-linecap:square;stroke-linejoin:miter;stroke-width:0.8;\"/>\n   </g>\n   <g id=\"patch_24\">\n    <path d=\"M 345.5 69.2 \nL 345.5 7.2 \n\" style=\"fill:none;stroke:#000000;stroke-linecap:square;stroke-linejoin:miter;stroke-width:0.8;\"/>\n   </g>\n   <g id=\"patch_25\">\n    <path d=\"M 283.5 69.2 \nL 345.5 69.2 \n\" style=\"fill:none;stroke:#000000;stroke-linecap:square;stroke-linejoin:miter;stroke-width:0.8;\"/>\n   </g>\n   <g id=\"patch_26\">\n    <path d=\"M 283.5 7.2 \nL 345.5 7.2 \n\" style=\"fill:none;stroke:#000000;stroke-linecap:square;stroke-linejoin:miter;stroke-width:0.8;\"/>\n   </g>\n  </g>\n  <g id=\"axes_6\">\n   <g id=\"patch_27\">\n    <path d=\"M 10.7 178.460896 \nL 72.7 178.460896 \nL 72.7 116.460896 \nL 10.7 116.460896 \nz\n\" style=\"fill:#ffffff;\"/>\n   </g>\n   <g clip-path=\"url(#p1bf815f328)\">\n    <image height=\"62\" id=\"image2d492a2da8\" transform=\"scale(1 -1)translate(0 -62)\" width=\"62\" x=\"10.7\" xlink:href=\"data:image/png;base64,\niVBORw0KGgoAAAANSUhEUgAAAD4AAAA+CAYAAABzwahEAAAABHNCSVQICAgIfAhkiAAADFlJREFUaIHlm/ufEOMex99jNyJpz9lSStkUu9ncIhSVSyq6LKpTYpFKLh1Zq0ic1RHF2lZIUrG0uhxylFLRbUudjhWR2E10d1vRqpxqZc4Pn+88z3j5E2Z+eWae72eeeWa+3+f5Xido1y4MAR55hD8dF3QNAEi77DJ1rFgBwDajvxXD/l4UAtCkia77938JgHDTRQ4TZI9X35iWAEwoKABgQ67ufbXPfD/gffcBsOrLLwGob9353YRdNGWHgza7pBkAixfrekO25n0D/3OYI0dqA5CSMhWAo/78usk4ggYNxPHBg9UxbFzgiE1YBUAVHQF4PE9f+/33RS8v3+KwX3IaAEd9JcyWFhrnYOxhe6292cYN03oBMH6vKMdNDB327u8eBKBxyeMALP5W4/VoKszOnaWxkd+wtq3GXXAOAB+d1N0h2vARAE+dd57mSUKP1KqqhQCMG7cGgBtjxPXrOwDQ+CJ95cP7bwMgKJcEhFN+ddi1rYVpn/YTAJutP4cVDhNuPxWA0sFakx++J07/+rDubd4w9vDSpQB802e/ri8Uh2uP0WU1uQ76jrXX8yoA9y47AYDi4mcdZtKkvwMwgm+ABHM8sS8eVEIIcPqSJerp08cT9w0CIGw0G4BPl3wLwI22HjZs9BvhAyMkrmlpuh45WrSfYg87cc4cAJb26wdAz9q6Z8pBYY+LYWtb25MNdjYDgNNOewqAzQebOey6nTsBaMcoAPLytCG2LvbzO8Par61NLMdTTx+lrxR0PcG6Ho6RTR3knQR4bkZCkbKxxCGrC/V1bSuiFrcDEPbd4zC/dPsbAJ1LawCoulH3HD9iBAC9Kp502GFvi7Zp09kAnHHDLUY5F4A7rvAGzJgXAnuW1OvjZu3Uxh8PXibp6txZ14nleBDu3h0CjHy6MQCFhZ5DzZunA7B1600AhFnlALTiCwAqKn6IDaW1GG46WQNn/6LrtKv8w/ZeB8B7yJyN1nirVqLffrsfbejQO+xMa3revDoA9MqSogwyKxw2TLvZxr8GgLKylwFo3dqPl56+HYDdu08Bkszx7dtlsjarL2Nk/lK/t+bkVAIwcWImAMOHvwtAWNcWebToAVauVBvZs40a6QFdj4097ojub6C1vrKqCvBOz0AeimH1jLC6OQBr69XTI426I4bsckSSc1S2RCeouF735u11mIriYgCyTjPTmoQeiX3xIOzQQXKSkaGOGekx8t0AtGsncevWTb37TWeNL/QGQmdTF1vMYdu5836jnOQwY8bcA8A5BbqvV4MGAJzVSJvkxo3bHXYumo9pH2ZP0fhDh/4MwJ49f3HYzz5T+0EnjXtONKe2bf2rmLMepE8GEszx1HWrVwNw03errOsjR/wv8qYu/M90ANaOV+SEnBwAvG8Gy1vKc2P2WACChicCEH4/wGGChqYWa9VSh204aVN0GVYe8tjMwwDs2SNsarq4Od3oJTHBzOcZ3V9UBMDS/HwA2vz2gcN81EIS8rZFBZLL8eWPae1sXno5AFu+9P5zy9oy+sK2JQBM6CTp+M3oIzdtctiRJXIDChu+Yj2K0/3Q0DvZU6KTwWacfP89AN99p8sgs8Rhw68UEpqf3kLjWP9ZCzXfW7c847D5w7WxlOSr73jrjzQrwNo64nQPM9ETy/EAloYAy5ZdAcADD3hiebliWU/QF4BLrX/wmfrqs2NuaYa1kWOQgqQhfHi2H3DdOrVvKT4b1JkEwHRGAnBrRoaDBtsm2tlL1j5n7c/WOvkhvFJm7JxBMrBKStS/aN5hh7kq52gAXlusOSeZ4ztDgN275Vy838RzsZ85ma/ZqhmwRw7M+HRtqY1jA93MpwBMnHgmAK2Ha5yMGCYyIM+zXSKcM1cdl1wCwIQoKA/cW1amCXZSnHbIkC4ATJ2qeHsRRR5ru7kzIoYNU5uV5R9eUfEHTGI5ntgXD16zmFvGGm1Ye71Dw9UZnwPwdHY2AEdPEqblXRLjLjHvbJvdaJqJjrWEranxZmjYVOHq6CE/7tsH+FB0+w4d/MO3bQOgVR35YfMq9MxMIqPkaT/uwGN0smgRABWmH7Py8vyLFg8U9glhEsvx1EvtpDFrAQi6vxAj/8NaGYqTI06XKrj/0qEbHHLQIKV8+vZVhPPwYKmWoOsrDhPsVGwtHLIRgPlTlcCLTN+LV/vxwue0AX4xTTG2sVH/nK06eeFbP81Ss1TM4MoytdjxwwkO8h6a+0v1zXcnoUew0dZ49AWyXRwb4EcA9plzWNdUFiidG073Lie7dmnAgmutY5kwf3BSzAReYoaMpYIZOlTtJ5947FTF0cIzZd5+vlFSkmr0BbFZ3mvubVA1zXpOtjYzhtIzq+xdEsvx1B1m9HfvrsDBLOfGQ/8jipFRxwzRg1pfc+eOBiDo7dfkoUOvAbDGIgfte8vgeKGh31lDW4PsF3amcfGKPncBkHGfn9i8eXZyvgII2U3eBuB1i9fHTBO3tr9C7vKptpsHxUccJAhkAr84NulrPDxwIAQI6pRY13pHfN0chNPt+myLcYdtlQMLyrNjQ+nrVlcrVbtUWV6uG3+Bh9ysdbu8lTh8+YJ71d+/PwCbL7zQQVdaO9T2nNUmiR1sDpPx4mE1DUQr/GhrB7HUYdbY2r4YucKJ5XhiXzwYMUIJhcJCeTjzYiIUifjRVtfynLnE00ym9u3zVUrbt6uepaWF5WpqIu/pFIcpN79+m13vsvYma+P1Mo2rqwE4Kk3JzINGfMhyDk92Wuiwx/bpbpie1hOZO7sc5lF6ABClRhPL8dTCwqhiSNVAT1/mK49WrFANSaUF2Z60RPv5Rh/QtKkf6W0l55+qkS98d19xd8frXoLOb2CSU6Vx7rH+wFRU3bqTHXZfPTlI69crlhdFhn6zuQQ9fBI4zNMmGRSfaT1KWE40LgMMtygPyKBKLMcD6BcCjBmj2FhBwS+OWFSkFZGfL6ckfOV3EcaNA2BmhU/V3mBqpsD2iEeeeEIPuL/GYc49V4bPxx9HLqUMjgMWv18em9j8IZKOqFpxRyNTi1EdSqmvc/tpsVzVv0aFJxbJeeag3zUy5lmmJyfpMbcl5qR0sSBAR1Y54purrZbVrlMt8BAl4GdR4rD9tyvgMPMU7eIDrlJBwO8L3nGYlBRFSMNKpYeDzLoAzLDoXW7MeKpVqw0Ah597UR3X6Jm7LE7v5RKykVsaXq+obTDrOrt+02G+HjsTgBYtVOqSWI4n9sVT98/Vog96K+kX1j3BUy3FEzRUpKRgr6yHIhPx/pWVDvr8AtWdDQs0XpbZEG0uitnqmLo5/lEAcnPlz+fOGGX0NQ75Ro3UazD0FgCmms9+ndEHdPBqNxyr5flNS4lz1Swt0WBWvsdkP2Zn7YEkczyrd5RA0Fdf/pbfNuo3tPqx9dp0gvMUXQkrFQcJMsscNghk4B4Mdc9iMYw2RT7wv6JcHAiaSM3MQByKlFs6nkO9oojrahXfDrHtbHCalN7q1V5VPbNBRcVXW2GAbYf8HEs68ElfOxE2sRwPYGYIMGKEKoWeXNfRU49X6ihYpG945IhiWSkpvQGoxKuLSE7aRj57ro+fRcdnM1SPGsXLnndF9zJyGjSo5bA/rJTJGmTr940iK8aPUsBXx8ZtanWuYVNFehdbbetVVDtMt27au/6d+KRhFGWdbwUC8WrAnBytkTVmhraPknBRLC4OtihrlI3v0kNxkHfPGekgq3qoVnWLrcVbTWs8b0bJW1f6nfrdS/6pE0soBleobm7hQjktF3X3yc3IOR5oshSWyTC6rdRLb1S4FLnNieV4asTp0aMLAViC59CoUaJdPM6yFhVRHkxr/pWHfMlV9DNPzTEyLfegMGnw3m8Oc8h0eydUr97ROH2nRUnvzLrbYYMC0YpRwUJoJRw0UsXj5TH3eXl9VUpe8Lrc0KBTrt2z2L/pyZoXXeUYJZbjiX1x99/ZD8UK8pfc6P9DOtElG1TtFG6y4rKoQDfdVz1FPlyYp5LpoPhOAL6y/9EATp2ooP7m4cMByDSRD69VrcrnY716/Mz+FoySQRc7r9HSULn+D6Nghgyrnj3VRjUwpel+AzRB5xT7Zym5HA9LS0OAbcbp+JdoZmprWkoKAEOstrV5c3Fu61b/p2FZmfREmqmqs1wi71+xEQ9Yq4hJGVJZncwQOnDgWoeMYmzPPqtkw8CBihC9/LLU5vjxJztspF1Hj15mPUp2Vlf3c5g36mleg4OEp5D+D4bXzHdRtRi9AAAAAElFTkSuQmCC\" y=\"-116.460896\"/>\n   </g>\n   <g id=\"matplotlib.axis_11\">\n    <g id=\"text_6\">\n     <!-- class: 5 -->\n     <defs>\n      <path d=\"M 10.796875 72.90625 \nL 49.515625 72.90625 \nL 49.515625 64.59375 \nL 19.828125 64.59375 \nL 19.828125 46.734375 \nQ 21.96875 47.46875 24.109375 47.828125 \nQ 26.265625 48.1875 28.421875 48.1875 \nQ 40.625 48.1875 47.75 41.5 \nQ 54.890625 34.8125 54.890625 23.390625 \nQ 54.890625 11.625 47.5625 5.09375 \nQ 40.234375 -1.421875 26.90625 -1.421875 \nQ 22.3125 -1.421875 17.546875 -0.640625 \nQ 12.796875 0.140625 7.71875 1.703125 \nL 7.71875 11.625 \nQ 12.109375 9.234375 16.796875 8.0625 \nQ 21.484375 6.890625 26.703125 6.890625 \nQ 35.15625 6.890625 40.078125 11.328125 \nQ 45.015625 15.765625 45.015625 23.390625 \nQ 45.015625 31 40.078125 35.4375 \nQ 35.15625 39.890625 26.703125 39.890625 \nQ 22.75 39.890625 18.8125 39.015625 \nQ 14.890625 38.140625 10.796875 36.28125 \nz\n\" id=\"DejaVuSans-53\"/>\n     </defs>\n     <g transform=\"translate(22.833594 190.059333)scale(0.1 -0.1)\">\n      <use xlink:href=\"#DejaVuSans-99\"/>\n      <use x=\"54.980469\" xlink:href=\"#DejaVuSans-108\"/>\n      <use x=\"82.763672\" xlink:href=\"#DejaVuSans-97\"/>\n      <use x=\"144.042969\" xlink:href=\"#DejaVuSans-115\"/>\n      <use x=\"196.142578\" xlink:href=\"#DejaVuSans-115\"/>\n      <use x=\"248.242188\" xlink:href=\"#DejaVuSans-58\"/>\n      <use x=\"281.933594\" xlink:href=\"#DejaVuSans-32\"/>\n      <use x=\"313.720703\" xlink:href=\"#DejaVuSans-53\"/>\n     </g>\n    </g>\n   </g>\n   <g id=\"matplotlib.axis_12\"/>\n   <g id=\"patch_28\">\n    <path d=\"M 10.7 178.460896 \nL 10.7 116.460896 \n\" style=\"fill:none;stroke:#000000;stroke-linecap:square;stroke-linejoin:miter;stroke-width:0.8;\"/>\n   </g>\n   <g id=\"patch_29\">\n    <path d=\"M 72.7 178.460896 \nL 72.7 116.460896 \n\" style=\"fill:none;stroke:#000000;stroke-linecap:square;stroke-linejoin:miter;stroke-width:0.8;\"/>\n   </g>\n   <g id=\"patch_30\">\n    <path d=\"M 10.7 178.460896 \nL 72.7 178.460896 \n\" style=\"fill:none;stroke:#000000;stroke-linecap:square;stroke-linejoin:miter;stroke-width:0.8;\"/>\n   </g>\n   <g id=\"patch_31\">\n    <path d=\"M 10.7 116.460896 \nL 72.7 116.460896 \n\" style=\"fill:none;stroke:#000000;stroke-linecap:square;stroke-linejoin:miter;stroke-width:0.8;\"/>\n   </g>\n  </g>\n  <g id=\"axes_7\">\n   <g id=\"patch_32\">\n    <path d=\"M 78.9 178.460896 \nL 140.9 178.460896 \nL 140.9 116.460896 \nL 78.9 116.460896 \nz\n\" style=\"fill:#ffffff;\"/>\n   </g>\n   <g clip-path=\"url(#p8977994706)\">\n    <image height=\"63\" id=\"imageb14b07cd59\" transform=\"scale(1 -1)translate(0 -63)\" width=\"63\" x=\"78.9\" xlink:href=\"data:image/png;base64,\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\" y=\"-115.460896\"/>\n   </g>\n   <g id=\"matplotlib.axis_13\">\n    <g id=\"text_7\">\n     <!-- class: 6 -->\n     <defs>\n      <path d=\"M 33.015625 40.375 \nQ 26.375 40.375 22.484375 35.828125 \nQ 18.609375 31.296875 18.609375 23.390625 \nQ 18.609375 15.53125 22.484375 10.953125 \nQ 26.375 6.390625 33.015625 6.390625 \nQ 39.65625 6.390625 43.53125 10.953125 \nQ 47.40625 15.53125 47.40625 23.390625 \nQ 47.40625 31.296875 43.53125 35.828125 \nQ 39.65625 40.375 33.015625 40.375 \nz\nM 52.59375 71.296875 \nL 52.59375 62.3125 \nQ 48.875 64.0625 45.09375 64.984375 \nQ 41.3125 65.921875 37.59375 65.921875 \nQ 27.828125 65.921875 22.671875 59.328125 \nQ 17.53125 52.734375 16.796875 39.40625 \nQ 19.671875 43.65625 24.015625 45.921875 \nQ 28.375 48.1875 33.59375 48.1875 \nQ 44.578125 48.1875 50.953125 41.515625 \nQ 57.328125 34.859375 57.328125 23.390625 \nQ 57.328125 12.15625 50.6875 5.359375 \nQ 44.046875 -1.421875 33.015625 -1.421875 \nQ 20.359375 -1.421875 13.671875 8.265625 \nQ 6.984375 17.96875 6.984375 36.375 \nQ 6.984375 53.65625 15.1875 63.9375 \nQ 23.390625 74.21875 37.203125 74.21875 \nQ 40.921875 74.21875 44.703125 73.484375 \nQ 48.484375 72.75 52.59375 71.296875 \nz\n\" id=\"DejaVuSans-54\"/>\n     </defs>\n     <g transform=\"translate(91.033594 190.059333)scale(0.1 -0.1)\">\n      <use xlink:href=\"#DejaVuSans-99\"/>\n      <use x=\"54.980469\" xlink:href=\"#DejaVuSans-108\"/>\n      <use x=\"82.763672\" xlink:href=\"#DejaVuSans-97\"/>\n      <use x=\"144.042969\" xlink:href=\"#DejaVuSans-115\"/>\n      <use x=\"196.142578\" xlink:href=\"#DejaVuSans-115\"/>\n      <use x=\"248.242188\" xlink:href=\"#DejaVuSans-58\"/>\n      <use x=\"281.933594\" xlink:href=\"#DejaVuSans-32\"/>\n      <use x=\"313.720703\" xlink:href=\"#DejaVuSans-54\"/>\n     </g>\n    </g>\n   </g>\n   <g id=\"matplotlib.axis_14\"/>\n   <g id=\"patch_33\">\n    <path d=\"M 78.9 178.460896 \nL 78.9 116.460896 \n\" style=\"fill:none;stroke:#000000;stroke-linecap:square;stroke-linejoin:miter;stroke-width:0.8;\"/>\n   </g>\n   <g id=\"patch_34\">\n    <path d=\"M 140.9 178.460896 \nL 140.9 116.460896 \n\" style=\"fill:none;stroke:#000000;stroke-linecap:square;stroke-linejoin:miter;stroke-width:0.8;\"/>\n   </g>\n   <g id=\"patch_35\">\n    <path d=\"M 78.9 178.460896 \nL 140.9 178.460896 \n\" style=\"fill:none;stroke:#000000;stroke-linecap:square;stroke-linejoin:miter;stroke-width:0.8;\"/>\n   </g>\n   <g id=\"patch_36\">\n    <path d=\"M 78.9 116.460896 \nL 140.9 116.460896 \n\" style=\"fill:none;stroke:#000000;stroke-linecap:square;stroke-linejoin:miter;stroke-width:0.8;\"/>\n   </g>\n  </g>\n  <g id=\"axes_8\">\n   <g id=\"patch_37\">\n    <path d=\"M 147.1 178.460896 \nL 209.1 178.460896 \nL 209.1 116.460896 \nL 147.1 116.460896 \nz\n\" style=\"fill:#ffffff;\"/>\n   </g>\n   <g clip-path=\"url(#p3cb8812a43)\">\n    <image height=\"62\" id=\"imagee662faaa0b\" transform=\"scale(1 -1)translate(0 -62)\" width=\"62\" x=\"147.1\" xlink:href=\"data:image/png;base64,\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\" y=\"-116.460896\"/>\n   </g>\n   <g id=\"matplotlib.axis_15\">\n    <g id=\"text_8\">\n     <!-- class: 7 -->\n     <defs>\n      <path d=\"M 8.203125 72.90625 \nL 55.078125 72.90625 \nL 55.078125 68.703125 \nL 28.609375 0 \nL 18.3125 0 \nL 43.21875 64.59375 \nL 8.203125 64.59375 \nz\n\" id=\"DejaVuSans-55\"/>\n     </defs>\n     <g transform=\"translate(159.233594 190.059333)scale(0.1 -0.1)\">\n      <use xlink:href=\"#DejaVuSans-99\"/>\n      <use x=\"54.980469\" xlink:href=\"#DejaVuSans-108\"/>\n      <use x=\"82.763672\" xlink:href=\"#DejaVuSans-97\"/>\n      <use x=\"144.042969\" xlink:href=\"#DejaVuSans-115\"/>\n      <use x=\"196.142578\" xlink:href=\"#DejaVuSans-115\"/>\n      <use x=\"248.242188\" xlink:href=\"#DejaVuSans-58\"/>\n      <use x=\"281.933594\" xlink:href=\"#DejaVuSans-32\"/>\n      <use x=\"313.720703\" xlink:href=\"#DejaVuSans-55\"/>\n     </g>\n    </g>\n   </g>\n   <g id=\"matplotlib.axis_16\"/>\n   <g id=\"patch_38\">\n    <path d=\"M 147.1 178.460896 \nL 147.1 116.460896 \n\" style=\"fill:none;stroke:#000000;stroke-linecap:square;stroke-linejoin:miter;stroke-width:0.8;\"/>\n   </g>\n   <g id=\"patch_39\">\n    <path d=\"M 209.1 178.460896 \nL 209.1 116.460896 \n\" style=\"fill:none;stroke:#000000;stroke-linecap:square;stroke-linejoin:miter;stroke-width:0.8;\"/>\n   </g>\n   <g id=\"patch_40\">\n    <path d=\"M 147.1 178.460896 \nL 209.1 178.460896 \n\" style=\"fill:none;stroke:#000000;stroke-linecap:square;stroke-linejoin:miter;stroke-width:0.8;\"/>\n   </g>\n   <g id=\"patch_41\">\n    <path d=\"M 147.1 116.460896 \nL 209.1 116.460896 \n\" style=\"fill:none;stroke:#000000;stroke-linecap:square;stroke-linejoin:miter;stroke-width:0.8;\"/>\n   </g>\n  </g>\n  <g id=\"axes_9\">\n   <g id=\"patch_42\">\n    <path d=\"M 215.3 178.460896 \nL 277.3 178.460896 \nL 277.3 116.460896 \nL 215.3 116.460896 \nz\n\" style=\"fill:#ffffff;\"/>\n   </g>\n   <g clip-path=\"url(#p05af5a46dd)\">\n    <image height=\"62\" id=\"image3795479161\" transform=\"scale(1 -1)translate(0 -62)\" width=\"62\" x=\"215.3\" xlink:href=\"data:image/png;base64,\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\" y=\"-116.460896\"/>\n   </g>\n   <g id=\"matplotlib.axis_17\">\n    <g id=\"text_9\">\n     <!-- class: 8 -->\n     <defs>\n      <path d=\"M 31.78125 34.625 \nQ 24.75 34.625 20.71875 30.859375 \nQ 16.703125 27.09375 16.703125 20.515625 \nQ 16.703125 13.921875 20.71875 10.15625 \nQ 24.75 6.390625 31.78125 6.390625 \nQ 38.8125 6.390625 42.859375 10.171875 \nQ 46.921875 13.96875 46.921875 20.515625 \nQ 46.921875 27.09375 42.890625 30.859375 \nQ 38.875 34.625 31.78125 34.625 \nz\nM 21.921875 38.8125 \nQ 15.578125 40.375 12.03125 44.71875 \nQ 8.5 49.078125 8.5 55.328125 \nQ 8.5 64.0625 14.71875 69.140625 \nQ 20.953125 74.21875 31.78125 74.21875 \nQ 42.671875 74.21875 48.875 69.140625 \nQ 55.078125 64.0625 55.078125 55.328125 \nQ 55.078125 49.078125 51.53125 44.71875 \nQ 48 40.375 41.703125 38.8125 \nQ 48.828125 37.15625 52.796875 32.3125 \nQ 56.78125 27.484375 56.78125 20.515625 \nQ 56.78125 9.90625 50.3125 4.234375 \nQ 43.84375 -1.421875 31.78125 -1.421875 \nQ 19.734375 -1.421875 13.25 4.234375 \nQ 6.78125 9.90625 6.78125 20.515625 \nQ 6.78125 27.484375 10.78125 32.3125 \nQ 14.796875 37.15625 21.921875 38.8125 \nz\nM 18.3125 54.390625 \nQ 18.3125 48.734375 21.84375 45.5625 \nQ 25.390625 42.390625 31.78125 42.390625 \nQ 38.140625 42.390625 41.71875 45.5625 \nQ 45.3125 48.734375 45.3125 54.390625 \nQ 45.3125 60.0625 41.71875 63.234375 \nQ 38.140625 66.40625 31.78125 66.40625 \nQ 25.390625 66.40625 21.84375 63.234375 \nQ 18.3125 60.0625 18.3125 54.390625 \nz\n\" id=\"DejaVuSans-56\"/>\n     </defs>\n     <g transform=\"translate(227.433594 190.059333)scale(0.1 -0.1)\">\n      <use xlink:href=\"#DejaVuSans-99\"/>\n      <use x=\"54.980469\" xlink:href=\"#DejaVuSans-108\"/>\n      <use x=\"82.763672\" xlink:href=\"#DejaVuSans-97\"/>\n      <use x=\"144.042969\" xlink:href=\"#DejaVuSans-115\"/>\n      <use x=\"196.142578\" xlink:href=\"#DejaVuSans-115\"/>\n      <use x=\"248.242188\" xlink:href=\"#DejaVuSans-58\"/>\n      <use x=\"281.933594\" xlink:href=\"#DejaVuSans-32\"/>\n      <use x=\"313.720703\" xlink:href=\"#DejaVuSans-56\"/>\n     </g>\n    </g>\n   </g>\n   <g id=\"matplotlib.axis_18\"/>\n   <g id=\"patch_43\">\n    <path d=\"M 215.3 178.460896 \nL 215.3 116.460896 \n\" style=\"fill:none;stroke:#000000;stroke-linecap:square;stroke-linejoin:miter;stroke-width:0.8;\"/>\n   </g>\n   <g id=\"patch_44\">\n    <path d=\"M 277.3 178.460896 \nL 277.3 116.460896 \n\" style=\"fill:none;stroke:#000000;stroke-linecap:square;stroke-linejoin:miter;stroke-width:0.8;\"/>\n   </g>\n   <g id=\"patch_45\">\n    <path d=\"M 215.3 178.460896 \nL 277.3 178.460896 \n\" style=\"fill:none;stroke:#000000;stroke-linecap:square;stroke-linejoin:miter;stroke-width:0.8;\"/>\n   </g>\n   <g id=\"patch_46\">\n    <path d=\"M 215.3 116.460896 \nL 277.3 116.460896 \n\" style=\"fill:none;stroke:#000000;stroke-linecap:square;stroke-linejoin:miter;stroke-width:0.8;\"/>\n   </g>\n  </g>\n  <g id=\"axes_10\">\n   <g id=\"patch_47\">\n    <path d=\"M 283.5 178.460896 \nL 345.5 178.460896 \nL 345.5 116.460896 \nL 283.5 116.460896 \nz\n\" style=\"fill:#ffffff;\"/>\n   </g>\n   <g clip-path=\"url(#p74e123b478)\">\n    <image height=\"62\" id=\"image8d48c41e0c\" transform=\"scale(1 -1)translate(0 -62)\" width=\"62\" x=\"283.5\" xlink:href=\"data:image/png;base64,\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\" y=\"-116.460896\"/>\n   </g>\n   <g id=\"matplotlib.axis_19\">\n    <g id=\"text_10\">\n     <!-- class: 9 -->\n     <defs>\n      <path d=\"M 10.984375 1.515625 \nL 10.984375 10.5 \nQ 14.703125 8.734375 18.5 7.8125 \nQ 22.3125 6.890625 25.984375 6.890625 \nQ 35.75 6.890625 40.890625 13.453125 \nQ 46.046875 20.015625 46.78125 33.40625 \nQ 43.953125 29.203125 39.59375 26.953125 \nQ 35.25 24.703125 29.984375 24.703125 \nQ 19.046875 24.703125 12.671875 31.3125 \nQ 6.296875 37.9375 6.296875 49.421875 \nQ 6.296875 60.640625 12.9375 67.421875 \nQ 19.578125 74.21875 30.609375 74.21875 \nQ 43.265625 74.21875 49.921875 64.515625 \nQ 56.59375 54.828125 56.59375 36.375 \nQ 56.59375 19.140625 48.40625 8.859375 \nQ 40.234375 -1.421875 26.421875 -1.421875 \nQ 22.703125 -1.421875 18.890625 -0.6875 \nQ 15.09375 0.046875 10.984375 1.515625 \nz\nM 30.609375 32.421875 \nQ 37.25 32.421875 41.125 36.953125 \nQ 45.015625 41.5 45.015625 49.421875 \nQ 45.015625 57.28125 41.125 61.84375 \nQ 37.25 66.40625 30.609375 66.40625 \nQ 23.96875 66.40625 20.09375 61.84375 \nQ 16.21875 57.28125 16.21875 49.421875 \nQ 16.21875 41.5 20.09375 36.953125 \nQ 23.96875 32.421875 30.609375 32.421875 \nz\n\" id=\"DejaVuSans-57\"/>\n     </defs>\n     <g transform=\"translate(295.633594 190.059333)scale(0.1 -0.1)\">\n      <use xlink:href=\"#DejaVuSans-99\"/>\n      <use x=\"54.980469\" xlink:href=\"#DejaVuSans-108\"/>\n      <use x=\"82.763672\" xlink:href=\"#DejaVuSans-97\"/>\n      <use x=\"144.042969\" xlink:href=\"#DejaVuSans-115\"/>\n      <use x=\"196.142578\" xlink:href=\"#DejaVuSans-115\"/>\n      <use x=\"248.242188\" xlink:href=\"#DejaVuSans-58\"/>\n      <use x=\"281.933594\" xlink:href=\"#DejaVuSans-32\"/>\n      <use x=\"313.720703\" xlink:href=\"#DejaVuSans-57\"/>\n     </g>\n    </g>\n   </g>\n   <g id=\"matplotlib.axis_20\"/>\n   <g id=\"patch_48\">\n    <path d=\"M 283.5 178.460896 \nL 283.5 116.460896 \n\" style=\"fill:none;stroke:#000000;stroke-linecap:square;stroke-linejoin:miter;stroke-width:0.8;\"/>\n   </g>\n   <g id=\"patch_49\">\n    <path d=\"M 345.5 178.460896 \nL 345.5 116.460896 \n\" style=\"fill:none;stroke:#000000;stroke-linecap:square;stroke-linejoin:miter;stroke-width:0.8;\"/>\n   </g>\n   <g id=\"patch_50\">\n    <path d=\"M 283.5 178.460896 \nL 345.5 178.460896 \n\" style=\"fill:none;stroke:#000000;stroke-linecap:square;stroke-linejoin:miter;stroke-width:0.8;\"/>\n   </g>\n   <g id=\"patch_51\">\n    <path d=\"M 283.5 116.460896 \nL 345.5 116.460896 \n\" style=\"fill:none;stroke:#000000;stroke-linecap:square;stroke-linejoin:miter;stroke-width:0.8;\"/>\n   </g>\n  </g>\n </g>\n <defs>\n  <clipPath id=\"p4e47fb3d38\">\n   <rect height=\"62\" width=\"62\" x=\"10.7\" y=\"7.2\"/>\n  </clipPath>\n  <clipPath id=\"pf41362c362\">\n   <rect height=\"62\" width=\"62\" x=\"78.9\" y=\"7.2\"/>\n  </clipPath>\n  <clipPath id=\"p15b0ad8341\">\n   <rect height=\"62\" width=\"62\" x=\"147.1\" y=\"7.2\"/>\n  </clipPath>\n  <clipPath id=\"pdf0f00efb4\">\n   <rect height=\"62\" width=\"62\" x=\"215.3\" y=\"7.2\"/>\n  </clipPath>\n  <clipPath id=\"pafc7ea5d38\">\n   <rect height=\"62\" width=\"62\" x=\"283.5\" y=\"7.2\"/>\n  </clipPath>\n  <clipPath id=\"p1bf815f328\">\n   <rect height=\"62\" width=\"62\" x=\"10.7\" y=\"116.460896\"/>\n  </clipPath>\n  <clipPath id=\"p8977994706\">\n   <rect height=\"62\" width=\"62\" x=\"78.9\" y=\"116.460896\"/>\n  </clipPath>\n  <clipPath id=\"p3cb8812a43\">\n   <rect height=\"62\" width=\"62\" x=\"147.1\" y=\"116.460896\"/>\n  </clipPath>\n  <clipPath id=\"p05af5a46dd\">\n   <rect height=\"62\" width=\"62\" x=\"215.3\" y=\"116.460896\"/>\n  </clipPath>\n  <clipPath id=\"p74e123b478\">\n   <rect height=\"62\" width=\"62\" x=\"283.5\" y=\"116.460896\"/>\n  </clipPath>\n </defs>\n</svg>\n",
      "text/plain": "<Figure size 432x288 with 10 Axes>"
     },
     "metadata": {},
     "output_type": "display_data"
    }
   ],
   "source": [
    "# Plot the model parameters for each class\n",
    "\n",
    "PlotParameters(model)"
   ]
  },
  {
   "cell_type": "markdown",
   "metadata": {},
   "source": [
    "Define the learning rate, optimizer, criterion, data loader:"
   ]
  },
  {
   "cell_type": "code",
   "execution_count": 23,
   "metadata": {},
   "outputs": [],
   "source": [
    "# Define the learning rate, optimizer, criterion and data loader\n",
    "\n",
    "learning_rate = 0.1\n",
    "optimizer = torch.optim.SGD(model.parameters(), lr=learning_rate)\n",
    "criterion = nn.CrossEntropyLoss()\n",
    "train_loader = torch.utils.data.DataLoader(dataset=train_dataset, batch_size=100)\n",
    "validation_loader = torch.utils.data.DataLoader(dataset=validation_dataset, batch_size=5000)"
   ]
  },
  {
   "cell_type": "markdown",
   "metadata": {},
   "source": [
    "Train the model and determine validation accuracy **(should take a few minutes)**: "
   ]
  },
  {
   "cell_type": "code",
   "execution_count": 24,
   "metadata": {},
   "outputs": [],
   "source": [
    "# Train the model\n",
    "\n",
    "n_epochs = 10\n",
    "loss_list = []\n",
    "accuracy_list = []\n",
    "N_test = len(validation_dataset)\n",
    "\n",
    "def train_model(n_epochs):\n",
    "    for epoch in range(n_epochs):\n",
    "        for x, y in train_loader:\n",
    "            optimizer.zero_grad()\n",
    "            z = model(x.view(-1, 28 * 28))\n",
    "            loss = criterion(z, y)\n",
    "            loss.backward()\n",
    "            optimizer.step()\n",
    "            \n",
    "        correct = 0\n",
    "        # perform a prediction on the validationdata  \n",
    "        for x_test, y_test in validation_loader:\n",
    "            z = model(x_test.view(-1, 28 * 28))\n",
    "            _, yhat = torch.max(z.data, 1)\n",
    "            correct += (yhat == y_test).sum().item()\n",
    "        accuracy = correct / N_test\n",
    "        loss_list.append(loss.data)\n",
    "        accuracy_list.append(accuracy)\n",
    "\n",
    "train_model(n_epochs)"
   ]
  },
  {
   "cell_type": "markdown",
   "metadata": {},
   "source": [
    "<!--Empty Space for separating topics-->"
   ]
  },
  {
   "cell_type": "markdown",
   "metadata": {},
   "source": [
    "<h2 id=\"Result\">Analyze Results</h2> "
   ]
  },
  {
   "cell_type": "markdown",
   "metadata": {},
   "source": [
    "Plot the loss and accuracy on the validation data:"
   ]
  },
  {
   "cell_type": "code",
   "execution_count": null,
   "metadata": {},
   "outputs": [],
   "source": [
    "# Plot the loss and accuracy\n",
    "\n",
    "fig, ax1 = plt.subplots()\n",
    "color = 'tab:red'\n",
    "ax1.plot(loss_list,color=color)\n",
    "ax1.set_xlabel('epoch',color=color)\n",
    "ax1.set_ylabel('total loss',color=color)\n",
    "ax1.tick_params(axis='y', color=color)\n",
    "    \n",
    "ax2 = ax1.twinx()  \n",
    "color = 'tab:blue'\n",
    "ax2.set_ylabel('accuracy', color=color)  \n",
    "ax2.plot( accuracy_list, color=color)\n",
    "ax2.tick_params(axis='y', color=color)\n",
    "fig.tight_layout()"
   ]
  },
  {
   "cell_type": "markdown",
   "metadata": {},
   "source": [
    "View the results of the parameters for each class after the training. You can see that they look like the corresponding numbers. "
   ]
  },
  {
   "cell_type": "code",
   "execution_count": null,
   "metadata": {},
   "outputs": [],
   "source": [
    "# Plot the parameters\n",
    "\n",
    "PlotParameters(model)"
   ]
  },
  {
   "cell_type": "markdown",
   "metadata": {},
   "source": [
    "We Plot the first five misclassified  samples and the probability of that class."
   ]
  },
  {
   "cell_type": "code",
   "execution_count": 3,
   "metadata": {},
   "outputs": [
    {
     "ename": "NameError",
     "evalue": "name 'nn' is not defined",
     "output_type": "error",
     "traceback": [
      "\u001b[0;31m---------------------------------------------------------------------------\u001b[0m",
      "\u001b[0;31mNameError\u001b[0m                                 Traceback (most recent call last)",
      "\u001b[0;32m<ipython-input-3-b8f0661b7c64>\u001b[0m in \u001b[0;36m<module>\u001b[0;34m\u001b[0m\n\u001b[1;32m      1\u001b[0m \u001b[0;31m# Plot the misclassified samples\u001b[0m\u001b[0;34m\u001b[0m\u001b[0;34m\u001b[0m\u001b[0;34m\u001b[0m\u001b[0m\n\u001b[0;32m----> 2\u001b[0;31m \u001b[0mSoftmax_fn\u001b[0m\u001b[0;34m=\u001b[0m\u001b[0mnn\u001b[0m\u001b[0;34m.\u001b[0m\u001b[0mSoftmax\u001b[0m\u001b[0;34m(\u001b[0m\u001b[0mdim\u001b[0m\u001b[0;34m=\u001b[0m\u001b[0;34m-\u001b[0m\u001b[0;36m1\u001b[0m\u001b[0;34m)\u001b[0m\u001b[0;34m\u001b[0m\u001b[0;34m\u001b[0m\u001b[0m\n\u001b[0m\u001b[1;32m      3\u001b[0m \u001b[0mcount\u001b[0m \u001b[0;34m=\u001b[0m \u001b[0;36m0\u001b[0m\u001b[0;34m\u001b[0m\u001b[0;34m\u001b[0m\u001b[0m\n\u001b[1;32m      4\u001b[0m \u001b[0;32mfor\u001b[0m \u001b[0mx\u001b[0m\u001b[0;34m,\u001b[0m \u001b[0my\u001b[0m \u001b[0;32min\u001b[0m \u001b[0mvalidation_dataset\u001b[0m\u001b[0;34m:\u001b[0m\u001b[0;34m\u001b[0m\u001b[0;34m\u001b[0m\u001b[0m\n\u001b[1;32m      5\u001b[0m     \u001b[0mz\u001b[0m \u001b[0;34m=\u001b[0m \u001b[0mmodel\u001b[0m\u001b[0;34m(\u001b[0m\u001b[0mx\u001b[0m\u001b[0;34m.\u001b[0m\u001b[0mreshape\u001b[0m\u001b[0;34m(\u001b[0m\u001b[0;34m-\u001b[0m\u001b[0;36m1\u001b[0m\u001b[0;34m,\u001b[0m \u001b[0;36m28\u001b[0m \u001b[0;34m*\u001b[0m \u001b[0;36m28\u001b[0m\u001b[0;34m)\u001b[0m\u001b[0;34m)\u001b[0m\u001b[0;34m\u001b[0m\u001b[0;34m\u001b[0m\u001b[0m\n",
      "\u001b[0;31mNameError\u001b[0m: name 'nn' is not defined"
     ]
    }
   ],
   "source": [
    "# Plot the misclassified samples\n",
    "Softmax_fn=nn.Softmax(dim=-1)\n",
    "count = 0\n",
    "for x, y in validation_dataset:\n",
    "    z = model(x.reshape(-1, 28 * 28))\n",
    "    _, yhat = torch.max(z, 1)\n",
    "    if yhat != y:\n",
    "        show_data((x, y))\n",
    "        plt.show()\n",
    "        print(\"yhat:\", yhat)\n",
    "        print(\"probability of class \", torch.max(Softmax_fn(z)).item())\n",
    "        count += 1\n",
    "    if count >= 5:\n",
    "        break       "
   ]
  },
  {
   "cell_type": "markdown",
   "metadata": {},
   "source": [
    "<!--Empty Space for separating topics-->"
   ]
  },
  {
   "cell_type": "markdown",
   "metadata": {},
   "source": [
    "We Plot the first five correctly classified samples and the probability of that class, we see the probability is much larger."
   ]
  },
  {
   "cell_type": "code",
   "execution_count": 4,
   "metadata": {},
   "outputs": [
    {
     "ename": "NameError",
     "evalue": "name 'nn' is not defined",
     "output_type": "error",
     "traceback": [
      "\u001b[0;31m---------------------------------------------------------------------------\u001b[0m",
      "\u001b[0;31mNameError\u001b[0m                                 Traceback (most recent call last)",
      "\u001b[0;32m<ipython-input-4-ff1531175b05>\u001b[0m in \u001b[0;36m<module>\u001b[0;34m\u001b[0m\n\u001b[1;32m      1\u001b[0m \u001b[0;31m# Plot the classified samples\u001b[0m\u001b[0;34m\u001b[0m\u001b[0;34m\u001b[0m\u001b[0;34m\u001b[0m\u001b[0m\n\u001b[0;32m----> 2\u001b[0;31m \u001b[0mSoftmax_fn\u001b[0m\u001b[0;34m=\u001b[0m\u001b[0mnn\u001b[0m\u001b[0;34m.\u001b[0m\u001b[0mSoftmax\u001b[0m\u001b[0;34m(\u001b[0m\u001b[0mdim\u001b[0m\u001b[0;34m=\u001b[0m\u001b[0;34m-\u001b[0m\u001b[0;36m1\u001b[0m\u001b[0;34m)\u001b[0m\u001b[0;34m\u001b[0m\u001b[0;34m\u001b[0m\u001b[0m\n\u001b[0m\u001b[1;32m      3\u001b[0m \u001b[0mcount\u001b[0m \u001b[0;34m=\u001b[0m \u001b[0;36m0\u001b[0m\u001b[0;34m\u001b[0m\u001b[0;34m\u001b[0m\u001b[0m\n\u001b[1;32m      4\u001b[0m \u001b[0;32mfor\u001b[0m \u001b[0mx\u001b[0m\u001b[0;34m,\u001b[0m \u001b[0my\u001b[0m \u001b[0;32min\u001b[0m \u001b[0mvalidation_dataset\u001b[0m\u001b[0;34m:\u001b[0m\u001b[0;34m\u001b[0m\u001b[0;34m\u001b[0m\u001b[0m\n\u001b[1;32m      5\u001b[0m     \u001b[0mz\u001b[0m \u001b[0;34m=\u001b[0m \u001b[0mmodel\u001b[0m\u001b[0;34m(\u001b[0m\u001b[0mx\u001b[0m\u001b[0;34m.\u001b[0m\u001b[0mreshape\u001b[0m\u001b[0;34m(\u001b[0m\u001b[0;34m-\u001b[0m\u001b[0;36m1\u001b[0m\u001b[0;34m,\u001b[0m \u001b[0;36m28\u001b[0m \u001b[0;34m*\u001b[0m \u001b[0;36m28\u001b[0m\u001b[0;34m)\u001b[0m\u001b[0;34m)\u001b[0m\u001b[0;34m\u001b[0m\u001b[0;34m\u001b[0m\u001b[0m\n",
      "\u001b[0;31mNameError\u001b[0m: name 'nn' is not defined"
     ]
    }
   ],
   "source": [
    "# Plot the classified samples\n",
    "Softmax_fn=nn.Softmax(dim=-1)\n",
    "count = 0\n",
    "for x, y in validation_dataset:\n",
    "    z = model(x.reshape(-1, 28 * 28))\n",
    "    _, yhat = torch.max(z, 1)\n",
    "    if yhat == y:\n",
    "        show_data((x, y))\n",
    "        plt.show()\n",
    "        print(\"yhat:\", yhat)\n",
    "        print(\"probability of class \", torch.max(Softmax_fn(z)).item())\n",
    "        count += 1\n",
    "    if count >= 5:\n",
    "        break  "
   ]
  },
  {
   "cell_type": "markdown",
   "metadata": {},
   "source": [
    "<a href=\"http://cocl.us/pytorch_link_bottom\">\n",
    "    <img src=\"https://s3-api.us-geo.objectstorage.softlayer.net/cf-courses-data/CognitiveClass/DL0110EN/notebook_images%20/notebook_bottom%20.png\" width=\"750\" alt=\"PyTorch Bottom\" />\n",
    "</a>"
   ]
  },
  {
   "cell_type": "markdown",
   "metadata": {},
   "source": [
    "<h2>About the Authors:</h2> \n",
    "\n",
    "<a href=\"https://www.linkedin.com/in/joseph-s-50398b136/\">Joseph Santarcangelo</a> has a PhD in Electrical Engineering, his research focused on using machine learning, signal processing, and computer vision to determine how videos impact human cognition. Joseph has been working for IBM since he completed his PhD. "
   ]
  },
  {
   "cell_type": "markdown",
   "metadata": {},
   "source": [
    "Other contributors: <a href=\"https://www.linkedin.com/in/michelleccarey/\">Michelle Carey</a>, <a href=\"www.linkedin.com/in/jiahui-mavis-zhou-a4537814a\">Mavis Zhou</a>"
   ]
  },
  {
   "cell_type": "markdown",
   "metadata": {},
   "source": [
    "<hr>"
   ]
  },
  {
   "cell_type": "markdown",
   "metadata": {},
   "source": [
    "Copyright &copy; 2018 <a href=\"cognitiveclass.ai?utm_source=bducopyrightlink&utm_medium=dswb&utm_campaign=bdu\">cognitiveclass.ai</a>. This notebook and its source code are released under the terms of the <a href=\"https://bigdatauniversity.com/mit-license/\">MIT License</a>."
   ]
  }
 ],
 "metadata": {
  "kernelspec": {
   "display_name": "Python 3.7.4 64-bit ('anaconda3': virtualenv)",
   "language": "python",
   "name": "python37464bitanaconda3virtualenvfe09af72984b4b8b8e798324dbcda799"
  },
  "language_info": {
   "codemirror_mode": {
    "name": "ipython",
    "version": 3
   },
   "file_extension": ".py",
   "mimetype": "text/x-python",
   "name": "python",
   "nbconvert_exporter": "python",
   "pygments_lexer": "ipython3",
   "version": "3.7.4-final"
  }
 },
 "nbformat": 4,
 "nbformat_minor": 4
}